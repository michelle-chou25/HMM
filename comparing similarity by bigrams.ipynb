{
 "cells": [
  {
   "cell_type": "code",
   "execution_count": 17,
   "metadata": {},
   "outputs": [],
   "source": [
    "from io import open\n",
    "import numpy as np\n",
    "import pandas as pd\n",
    "\n",
    "from nltk import FreqDist\n",
    "from nltk import WittenBellProbDist\n",
    "from nltk.util import ngrams\n",
    "\n",
    "from conllu import parse_incr\n",
    "\n",
    "corpora = {}\n",
    "corpora['en'] = 'UD_English-EWT/en_ewt'\n",
    "corpora['es'] = 'UD_Spanish-GSD/es_gsd'\n",
    "corpora['nl'] = 'UD_Dutch-Alpino/nl_alpino'\n",
    "\n",
    "\n",
    "def train_corpus(lang):\n",
    "    return 'D:/CS5012/P1 HMM/corpora/' + corpora[lang] + '-ud-train.conllu'  # adjust to local path. debug only\n",
    "\n",
    "\n",
    "# return corpora[lang] + '-ud-train.conllu'\n",
    "\n",
    "def test_corpus(lang):\n",
    "    return 'D:/CS5012/P1 HMM/corpora/' + corpora[lang] + '-ud-test.conllu'  # adjust to local path, debug only\n",
    "\n",
    "\n",
    "# return corpora[lang] + '-ud-test.conllu'\n",
    "\n",
    "# Remove contractions such as \"isn't\".\n",
    "def prune_sentence(sent):\n",
    "    return [token for token in sent if type(token['id']) is int]\n",
    "\n",
    "\n",
    "def conllu_corpus(path):\n",
    "    data_file = open(path, 'r', encoding='utf-8')\n",
    "    sents = list(parse_incr(data_file))\n",
    "    return [prune_sentence(sent) for sent in sents]\n",
    "\n",
    "\n",
    "# Choose language.\n",
    "# lang = 'en'\n",
    "\n",
    "# Limit length of sentences to avoid underflow.\n",
    "max_len = 100\n",
    "def get_sents(lang):\n",
    "    train_sents = conllu_corpus(train_corpus(lang))\n",
    "    test_sents = conllu_corpus(test_corpus(lang))\n",
    "    test_sents = [sent for sent in test_sents if len(sent) <= max_len]\n",
    "    print(len(train_sents), 'training sentences')\n",
    "    print(len(test_sents), 'test sentences')\n",
    "    return train_sents, test_sents\n",
    "\n",
    "def get_tags(lang):\n",
    "    train_sents, test_sents = get_sents(lang)\n",
    "    tags = []\n",
    "    for sent in train_sents:\n",
    "        for token in sent:\n",
    "            tags.append(token.get('upos'))\n",
    "    return tags\n",
    "\n",
    "def get_bigrams_result(lang):\n",
    "    tags = get_tags(lang)\n",
    "    return list(ngrams(tags,2))"
   ]
  },
  {
   "cell_type": "code",
   "execution_count": null,
   "metadata": {},
   "outputs": [],
   "source": []
  },
  {
   "cell_type": "code",
   "execution_count": 18,
   "metadata": {},
   "outputs": [
    {
     "name": "stdout",
     "output_type": "stream",
     "text": [
      "12543 training sentences\n",
      "2077 test sentences\n"
     ]
    }
   ],
   "source": [
    "bigrams_en = get_bigrams_result(lang=\"en\")"
   ]
  },
  {
   "cell_type": "code",
   "execution_count": 26,
   "metadata": {},
   "outputs": [
    {
     "name": "stdout",
     "output_type": "stream",
     "text": [
      "14187 training sentences\n",
      "422 test sentences\n"
     ]
    }
   ],
   "source": [
    "bigrams_es = get_bigrams_result(lang=\"es\")"
   ]
  },
  {
   "cell_type": "code",
   "execution_count": 27,
   "metadata": {},
   "outputs": [
    {
     "name": "stdout",
     "output_type": "stream",
     "text": [
      "12264 training sentences\n",
      "596 test sentences\n"
     ]
    }
   ],
   "source": [
    "bigrams_nl = get_bigrams_result(lang=\"nl\")"
   ]
  },
  {
   "cell_type": "code",
   "execution_count": 33,
   "metadata": {},
   "outputs": [],
   "source": [
    "def get_same_elements(list1, list2):\n",
    "    c = len(list1) if len(list1) < len(list2) else len(list2)\n",
    "    count = 0\n",
    "    for i in range(c):\n",
    "        if list1[1] == list2[i]:\n",
    "            count += 1\n",
    "    return count"
   ]
  },
  {
   "cell_type": "code",
   "execution_count": 36,
   "metadata": {},
   "outputs": [
    {
     "data": {
      "text/plain": [
       "204584"
      ]
     },
     "execution_count": 36,
     "metadata": {},
     "output_type": "execute_result"
    }
   ],
   "source": [
    "len(bigrams_en)"
   ]
  },
  {
   "cell_type": "code",
   "execution_count": 37,
   "metadata": {},
   "outputs": [
    {
     "data": {
      "text/plain": [
       "382435"
      ]
     },
     "execution_count": 37,
     "metadata": {},
     "output_type": "execute_result"
    }
   ],
   "source": [
    "len(bigrams_es)"
   ]
  },
  {
   "cell_type": "code",
   "execution_count": 38,
   "metadata": {},
   "outputs": [
    {
     "data": {
      "text/plain": [
       "185882"
      ]
     },
     "execution_count": 38,
     "metadata": {},
     "output_type": "execute_result"
    }
   ],
   "source": [
    "len(bigrams_nl)"
   ]
  },
  {
   "cell_type": "code",
   "execution_count": 34,
   "metadata": {},
   "outputs": [
    {
     "name": "stdout",
     "output_type": "stream",
     "text": [
      "similiarity between en and es: \n"
     ]
    },
    {
     "data": {
      "text/plain": [
       "581121"
      ]
     },
     "execution_count": 34,
     "metadata": {},
     "output_type": "execute_result"
    }
   ],
   "source": [
    "print(\"similiarity between en and es: \")\n",
    "len(bigrams_en) + len(bigrams_es) - 2* get_same_elements(bigrams_en, bigrams_es)"
   ]
  },
  {
   "cell_type": "code",
   "execution_count": 39,
   "metadata": {},
   "outputs": [
    {
     "name": "stdout",
     "output_type": "stream",
     "text": [
      "similiarity between en and nl: \n"
     ]
    },
    {
     "data": {
      "text/plain": [
       "388210"
      ]
     },
     "execution_count": 39,
     "metadata": {},
     "output_type": "execute_result"
    }
   ],
   "source": [
    "print(\"similiarity between en and nl: \")\n",
    "len(bigrams_en) + len(bigrams_nl) - 2* get_same_elements(bigrams_en, bigrams_nl)"
   ]
  },
  {
   "cell_type": "code",
   "execution_count": 40,
   "metadata": {},
   "outputs": [
    {
     "name": "stdout",
     "output_type": "stream",
     "text": [
      "similiarity between en and es: \n"
     ]
    },
    {
     "data": {
      "text/plain": [
       "566641"
      ]
     },
     "execution_count": 40,
     "metadata": {},
     "output_type": "execute_result"
    }
   ],
   "source": [
    "print(\"similiarity between en and es: \")\n",
    "len(bigrams_es) + len(bigrams_nl) - 2* get_same_elements(bigrams_es, bigrams_nl)"
   ]
  },
  {
   "cell_type": "code",
   "execution_count": null,
   "metadata": {},
   "outputs": [],
   "source": []
  },
  {
   "cell_type": "code",
   "execution_count": null,
   "metadata": {},
   "outputs": [],
   "source": []
  }
 ],
 "metadata": {
  "kernelspec": {
   "display_name": "Python 3",
   "language": "python",
   "name": "python3"
  },
  "language_info": {
   "codemirror_mode": {
    "name": "ipython",
    "version": 3
   },
   "file_extension": ".py",
   "mimetype": "text/x-python",
   "name": "python",
   "nbconvert_exporter": "python",
   "pygments_lexer": "ipython3",
   "version": "3.8.5"
  }
 },
 "nbformat": 4,
 "nbformat_minor": 4
}
